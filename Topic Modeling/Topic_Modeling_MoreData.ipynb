{
  "nbformat": 4,
  "nbformat_minor": 0,
  "metadata": {
    "colab": {
      "name": "Topic Modeling_MoreData.ipynb",
      "provenance": []
    },
    "kernelspec": {
      "name": "python3",
      "display_name": "Python 3"
    }
  },
  "cells": [
    {
      "cell_type": "code",
      "metadata": {
        "id": "UzidlqdLZZO1",
        "colab_type": "code",
        "colab": {}
      },
      "source": [
        "import pandas as pd\n",
        "import os\n",
        "import numpy as np\n",
        "import re\n",
        "import nltk\n",
        "from nltk.stem import WordNetLemmatizer\n",
        "from nltk import word_tokenize\n",
        "from nltk.corpus import stopwords\n",
        "import string\n",
        "import matplotlib.pyplot as plt\n",
        "import gensim\n",
        "import numpy as np\n",
        "from gensim.models import CoherenceModel, LdaModel, LsiModel, HdpModel\n",
        "from gensim.models.wrappers import LdaMallet\n",
        "from gensim.corpora import Dictionary"
      ],
      "execution_count": 1,
      "outputs": []
    },
    {
      "cell_type": "code",
      "metadata": {
        "id": "twEGW_zuadtX",
        "colab_type": "code",
        "colab": {
          "base_uri": "https://localhost:8080/",
          "height": 204
        },
        "outputId": "a71246c9-bc8e-4681-c4f8-ca6fd4f80876"
      },
      "source": [
        "!wget --no-check-certificate \\\n",
        " https://storage.googleapis.com/txt_tesis/txts_extracted.zip \\\n",
        " -O /tmp/files.zip"
      ],
      "execution_count": 2,
      "outputs": [
        {
          "output_type": "stream",
          "text": [
            "--2020-09-22 12:20:25--  https://storage.googleapis.com/txt_tesis/txts_extracted.zip\n",
            "Resolving storage.googleapis.com (storage.googleapis.com)... 172.217.204.128, 172.217.203.128, 74.125.31.128, ...\n",
            "Connecting to storage.googleapis.com (storage.googleapis.com)|172.217.204.128|:443... connected.\n",
            "HTTP request sent, awaiting response... 200 OK\n",
            "Length: 2887953 (2.8M) [application/zip]\n",
            "Saving to: ‘/tmp/files.zip’\n",
            "\n",
            "\r/tmp/files.zip        0%[                    ]       0  --.-KB/s               \r/tmp/files.zip      100%[===================>]   2.75M  --.-KB/s    in 0.02s   \n",
            "\n",
            "2020-09-22 12:20:25 (173 MB/s) - ‘/tmp/files.zip’ saved [2887953/2887953]\n",
            "\n"
          ],
          "name": "stdout"
        }
      ]
    },
    {
      "cell_type": "code",
      "metadata": {
        "id": "9UrzFWxpajjO",
        "colab_type": "code",
        "colab": {
          "base_uri": "https://localhost:8080/",
          "height": 1000
        },
        "outputId": "45990a97-e772-4ffa-a0d3-615c31e03e89"
      },
      "source": [
        "!unzip /tmp/files.zip -d /tmp/"
      ],
      "execution_count": 3,
      "outputs": [
        {
          "output_type": "stream",
          "text": [
            "Archive:  /tmp/files.zip\n",
            "   creating: /tmp/txt_tesis/\n",
            "  inflating: /tmp/txt_tesis/acta_comision_2020_01_21_a_comi_justicia.txt  \n",
            "  inflating: /tmp/txt_tesis/acta_comision_2019_09_04_a_comi_credenciales.txt  \n",
            "  inflating: /tmp/txt_tesis/acta_pleno_2019_07_15_a_pleno.txt  \n",
            "  inflating: /tmp/txt_tesis/acta_comision_2019_07_23_a_comi_credenciales.txt  \n",
            "  inflating: /tmp/txt_tesis/acta_pleno_2019_09_18_a_pleno.txt  \n",
            "  inflating: /tmp/txt_tesis/acta_comision_2019_10_29_a_comi_justicia.txt  \n",
            "  inflating: /tmp/txt_tesis/acta_pleno_2019_10_24_a_pleno.txt  \n",
            "  inflating: /tmp/txt_tesis/acta_comision_2020_01_22_a_comi_canal.txt  \n",
            "  inflating: /tmp/txt_tesis/acta_comision_2019_09_05_a_comi_credenciales.txt  \n",
            "  inflating: /tmp/txt_tesis/acta_comision_2019_07_18_a_comi_justicia.txt  \n",
            "  inflating: /tmp/txt_tesis/acta_comision_2019_07_30_a_comi_justicia.txt  \n",
            "  inflating: /tmp/txt_tesis/acta_pleno_2019_09_03_a_pleno.txt  \n",
            "  inflating: /tmp/txt_tesis/acta_pleno_2019_12_04_a_pleno.txt  \n",
            "  inflating: /tmp/txt_tesis/acta_comision_2019_07_23_a_comi_trabajo.txt  \n",
            "  inflating: /tmp/txt_tesis/acta_pleno_2019_08_28_a_pleno.txt  \n",
            "  inflating: /tmp/txt_tesis/acta_comision_2019_09_24_a_comi_credenciales.txt  \n",
            "  inflating: /tmp/txt_tesis/acta_comision_2019_07_30_a_comi_poblacion.txt  \n",
            "  inflating: /tmp/txt_tesis/acta_comision_2019_07_23_a_comi_familia.txt  \n",
            "  inflating: /tmp/txt_tesis/acta_comision_2019_08_14_a_comi_credenciales.txt  \n",
            "  inflating: /tmp/txt_tesis/acta_comision_2020_01_15_a_comi_poblacion.txt  \n",
            "  inflating: /tmp/txt_tesis/acta_pleno_2019_09_24_a_pleno.txt  \n",
            "  inflating: /tmp/txt_tesis/acta_pleno_2019_07_09_a_pleno.txt  \n",
            "  inflating: /tmp/txt_tesis/acta_pleno_2019_08_12_a_pleno.txt  \n",
            "  inflating: /tmp/txt_tesis/acta_comision_2019_07_17_a_comi_presupuesto.txt  \n",
            "  inflating: /tmp/txt_tesis/acta_pleno_2019_09_25_a_pleno.txt  \n",
            "  inflating: /tmp/txt_tesis/acta_comision_2019_11_13_a_comi_comercio.txt  \n",
            "  inflating: /tmp/txt_tesis/acta_pleno_2019_07_01_a_pleno.txt  \n",
            "  inflating: /tmp/txt_tesis/acta_comision_2020_01_28_a_comi_justicia.txt  \n",
            "  inflating: /tmp/txt_tesis/acta_pleno_2019_10_10_a_pleno.txt  \n",
            "  inflating: /tmp/txt_tesis/acta_pleno_2019_07_22_a_pleno.txt  \n",
            "  inflating: /tmp/txt_tesis/acta_comision_2019_07_22_a_comi_municipales.txt  \n",
            "  inflating: /tmp/txt_tesis/acta_comision_2019_08_21_a_comi_educacion.txt  \n",
            "  inflating: /tmp/txt_tesis/acta_pleno_2019_07_18_a_pleno.txt  \n",
            "  inflating: /tmp/txt_tesis/acta_comision_2019_07_18_a_comi_credenciales.txt  \n",
            "  inflating: /tmp/txt_tesis/acta_comision_2019_08_06_a_comi_poblacion.txt  \n",
            "  inflating: /tmp/txt_tesis/acta_comision_2019_08_26_a_comi_relaciones.txt  \n",
            "  inflating: /tmp/txt_tesis/acta_comision_2019_09_11_a_comi_justicia.txt  \n",
            "  inflating: /tmp/txt_tesis/acta_pleno_2019_08_19_a_pleno.txt  \n",
            "  inflating: /tmp/txt_tesis/acta_pleno_2019_08_20_a_pleno.txt  \n",
            "  inflating: /tmp/txt_tesis/acta_pleno_2019_07_04_a_pleno.txt  \n",
            "  inflating: /tmp/txt_tesis/acta_pleno_2019_08_26_a_pleno.txt  \n",
            "  inflating: /tmp/txt_tesis/acta_comision_2019_09_16_a_comi_comunicacion.txt  \n",
            "  inflating: /tmp/txt_tesis/acta_comision_2019_09_10_a_comi_relaciones.txt  \n",
            "  inflating: /tmp/txt_tesis/acta_comision_2019_07_31_a_comi_credenciales.txt  \n",
            "  inflating: /tmp/txt_tesis/acta_comision_2020_01_16_a_comi_credenciales.txt  \n",
            "  inflating: /tmp/txt_tesis/acta_comision_2019_10_14_a_comi_comunicacion.txt  \n",
            "  inflating: /tmp/txt_tesis/acta_pleno_2019_08_22_a_pleno.txt  \n",
            "  inflating: /tmp/txt_tesis/acta_comision_2019_08_01_a_comi_credenciales.txt  \n",
            "  inflating: /tmp/txt_tesis/acta_pleno_2019_09_16_a_pleno.txt  \n",
            "  inflating: /tmp/txt_tesis/acta_pleno_2019_07_11_a_pleno.txt  \n",
            "  inflating: /tmp/txt_tesis/acta_comision_2019_08_16_a_comi_justicia.txt  \n",
            "  inflating: /tmp/txt_tesis/acta_pleno_2019_11_27_a_pleno.txt  \n",
            "  inflating: /tmp/txt_tesis/acta_comision_2019_10_02_a_comi_educacion.txt  \n",
            "  inflating: /tmp/txt_tesis/acta_pleno_2019_08_01_a_pleno.txt  \n",
            "  inflating: /tmp/txt_tesis/acta_comision_2019_08_19_a_comi_comunicacion.txt  \n",
            "  inflating: /tmp/txt_tesis/acta_comision_2019_08_19_a_comi_municipales.txt  \n",
            "  inflating: /tmp/txt_tesis/acta_comision_2019_09_06_a_comi_justicia.txt  \n",
            "  inflating: /tmp/txt_tesis/acta_comision_2019_10_03_a_comi_justicia.txt  \n",
            "  inflating: /tmp/txt_tesis/acta_comision_2019_09_09_a_comi_comunicacion.txt  \n",
            "  inflating: /tmp/txt_tesis/acta_comision_2019_08_27_a_comi_justicia.txt  \n",
            "  inflating: /tmp/txt_tesis/acta_comision_2019_10_29_a_comi_familia.txt  \n",
            "  inflating: /tmp/txt_tesis/acta_pleno_2019_07_29_a_pleno.txt  \n",
            "  inflating: /tmp/txt_tesis/acta_comision_2019_08_05_a_comi_credenciales.txt  \n",
            "  inflating: /tmp/txt_tesis/acta_pleno_2019_08_13_a_pleno.txt  \n",
            "  inflating: /tmp/txt_tesis/acta_pleno_2019_07_23_a_pleno.txt  \n",
            "  inflating: /tmp/txt_tesis/acta_comision_2019_08_07_a_comi_educacion.txt  \n",
            "  inflating: /tmp/txt_tesis/acta_comision_2020_01_08_a_comi_municipales.txt  \n",
            "  inflating: /tmp/txt_tesis/acta_pleno_2019_10_29_a_pleno.txt  \n",
            "  inflating: /tmp/txt_tesis/acta_pleno_2019_09_02_a_pleno.txt  \n",
            "  inflating: /tmp/txt_tesis/acta_comision_2019_09_25_a_comi_educacion.txt  \n",
            "  inflating: /tmp/txt_tesis/acta_comision_2019_10_14_a_comi_credenciales.txt  \n",
            "  inflating: /tmp/txt_tesis/acta_pleno_2019_09_23_a_pleno.txt  \n",
            "  inflating: /tmp/txt_tesis/acta_comision_2019_07_24_a_comi_credenciales.txt  \n",
            "  inflating: /tmp/txt_tesis/acta_comision_2019_09_18_a_comi_educacion.txt  \n",
            "  inflating: /tmp/txt_tesis/acta_comision_2019_08_28_a_comi_municipales.txt  \n",
            "  inflating: /tmp/txt_tesis/acta_comision_2019_07_31_a_comi_trabajo.txt  \n",
            "  inflating: /tmp/txt_tesis/acta_comision_2019_10_07_a_comi_comunicacion.txt  \n",
            "  inflating: /tmp/txt_tesis/acta_pleno_2019_07_17_a_pleno.txt  \n",
            "  inflating: /tmp/txt_tesis/acta_pleno_2019_08_05_a_pleno.txt  \n",
            "  inflating: /tmp/txt_tesis/acta_comision_2019_07_22_a_comi_comercio.txt  \n",
            "  inflating: /tmp/txt_tesis/acta_comision_2019_08_21_a_comi_credenciales.txt  \n",
            "  inflating: /tmp/txt_tesis/acta_pleno_2019_09_17_a_pleno.txt  \n",
            "  inflating: /tmp/txt_tesis/acta_comision_2019_10_07_a_comi_familia.txt  \n",
            "  inflating: /tmp/txt_tesis/acta_comision_2019_10_11_a_comi_justicia.txt  \n",
            "  inflating: /tmp/txt_tesis/acta_comision_2019_07_31_a_comi_relaciones.txt  \n",
            "  inflating: /tmp/txt_tesis/acta_comision_2019_10_02_v_comi_comercio.txt  \n",
            "  inflating: /tmp/txt_tesis/acta_pleno_2019_07_25_a_pleno.txt  \n",
            "  inflating: /tmp/txt_tesis/acta_pleno_2019_08_29_a_pleno.txt  \n",
            "  inflating: /tmp/txt_tesis/acta_comision_2020_01_08_a_comi_credenciales.txt  \n",
            "  inflating: /tmp/txt_tesis/acta_pleno_2019_07_30_a_pleno.txt  \n",
            "  inflating: /tmp/txt_tesis/acta_pleno_2019_07_10_a_pleno.txt  \n",
            "  inflating: /tmp/txt_tesis/acta_comision_2019_10_15_a_comi_canal.txt  \n",
            "  inflating: /tmp/txt_tesis/acta_comision_2019_09_30_a_comi_comunicacion.txt  \n",
            "  inflating: /tmp/txt_tesis/acta_comision_2019_07_29_a_comi_credenciales.txt  \n",
            "  inflating: /tmp/txt_tesis/acta_pleno_2019_10_08_a_pleno.txt  \n",
            "  inflating: /tmp/txt_tesis/acta_comision_2019_09_03_a_comi_comercio.txt  \n",
            "  inflating: /tmp/txt_tesis/acta_pleno_2019_08_08_a_pleno.txt  \n",
            "  inflating: /tmp/txt_tesis/acta_pleno_2019_07_02_a_pleno.txt  \n",
            "  inflating: /tmp/txt_tesis/acta_comision_2019_08_01_a_comi_familia.txt  \n",
            "  inflating: /tmp/txt_tesis/acta_pleno_2019_07_24_a_pleno.txt  \n",
            "  inflating: /tmp/txt_tesis/acta_pleno_2019_11_26_a_pleno.txt  \n",
            "  inflating: /tmp/txt_tesis/acta_pleno_2019_07_31_a_pleno.txt  \n",
            "  inflating: /tmp/txt_tesis/acta_comision_2019_10_01_a_comi_canal.txt  \n",
            "  inflating: /tmp/txt_tesis/acta_comision_2019_07_31_a_comi_educacion.txt  \n",
            "  inflating: /tmp/txt_tesis/acta_pleno_2019_09_19_a_pleno.txt  \n",
            "  inflating: /tmp/txt_tesis/acta_pleno_2019_08_21_a_pleno.txt  \n",
            "  inflating: /tmp/txt_tesis/acta_comision_2019_09_24_a_comi_indigena.txt  \n",
            "  inflating: /tmp/txt_tesis/acta_comision_2019_07_26_a_comi_canal.txt  \n",
            "  inflating: /tmp/txt_tesis/acta_comision_2019_11_20_a_comi_canal.txt  \n",
            "  inflating: /tmp/txt_tesis/acta_comision_2019_08_13_a_comi_comercio.txt  \n",
            "  inflating: /tmp/txt_tesis/acta_pleno_2019_08_27_a_pleno.txt  \n",
            "  inflating: /tmp/txt_tesis/acta_comision_2019_10_08_a_comi_relaciones.txt  \n",
            "  inflating: /tmp/txt_tesis/acta_comision_2019_08_06_a_comi_trabajo.txt  \n",
            "  inflating: /tmp/txt_tesis/acta_comision_2019_12_02_a_comi_credenciales.txt  \n",
            "  inflating: /tmp/txt_tesis/acta_comision_2019_08_06_a_comi_canal.txt  \n",
            "  inflating: /tmp/txt_tesis/acta_pleno_2019_07_03_a_pleno.txt  \n",
            "  inflating: /tmp/txt_tesis/acta_comision_2019_09_12_a_comi_justicia.txt  \n",
            "  inflating: /tmp/txt_tesis/acta_comision_2020_02_11_a_comi_credenciales.txt  \n",
            "  inflating: /tmp/txt_tesis/acta_comision_2020_01_14_a_comi_justicia.txt  \n",
            "  inflating: /tmp/txt_tesis/acta_comision_2019_07_18_b_comi_credenciales.txt  \n",
            "  inflating: /tmp/txt_tesis/acta_pleno_2019_07_16_a_pleno.txt  \n",
            "  inflating: /tmp/txt_tesis/acta_comision_2019_12_11_a_comi_poblacion.txt  \n",
            "  inflating: /tmp/txt_tesis/acta_comision_2019_10_16_a_comi_relaciones.txt  \n",
            "  inflating: /tmp/txt_tesis/acta_comision_2019_08_12_a_comi_credenciales.txt  \n",
            "  inflating: /tmp/txt_tesis/acta_comision_2020_01_29_a_comi_comunicacion.txt  \n",
            "  inflating: /tmp/txt_tesis/acta_comision_2019_09_03_a_comi_justicia.txt  \n",
            "  inflating: /tmp/txt_tesis/acta_pleno_2019_12_02_a_pleno.txt  \n",
            "  inflating: /tmp/txt_tesis/acta_comision_2019_08_27_a_comi_canal.txt  \n",
            "  inflating: /tmp/txt_tesis/acta_comision_2019_09_10_a_comi_canal.txt  \n",
            "  inflating: /tmp/txt_tesis/acta_comision_2020_02_06_a_comi_credenciales.txt  \n",
            "  inflating: /tmp/txt_tesis/acta_comision_2019_09_03_a_comi_trabajo.txt  \n",
            "  inflating: /tmp/txt_tesis/acta_comision_2019_07_31_a_comi_comunicacion.txt  \n",
            "  inflating: /tmp/txt_tesis/acta_comision_2019_10_14_a_comi_familia.txt  \n",
            "  inflating: /tmp/txt_tesis/acta_pleno_2019_08_06_a_pleno.txt  \n",
            "  inflating: /tmp/txt_tesis/acta_pleno_2019_08_07_a_pleno.txt  \n",
            "  inflating: /tmp/txt_tesis/acta_pleno_2019_08_14_a_pleno.txt  \n",
            "  inflating: /tmp/txt_tesis/acta_comision_2019_10_30_a_comi_educacion.txt  \n",
            "  inflating: /tmp/txt_tesis/acta_comision_2019_08_24_a_comi_justicia.txt  \n",
            "  inflating: /tmp/txt_tesis/acta_pleno_2019_12_17_a_pleno.txt  \n",
            "  inflating: /tmp/txt_tesis/acta_comision_2019_10_30_a_comi_credenciales.txt  \n",
            "  inflating: /tmp/txt_tesis/acta_pleno_2019_10_30_a_pleno.txt  \n",
            "  inflating: /tmp/txt_tesis/acta_comision_2019_08_20_a_comi_poblacion.txt  \n",
            "  inflating: /tmp/txt_tesis/acta_comision_2019_08_07_a_comi_credenciales.txt  \n",
            "  inflating: /tmp/txt_tesis/acta_comision_2019_08_07_a_comi_justicia.txt  \n",
            "  inflating: /tmp/txt_tesis/acta_pleno_2019_11_25_a_pleno.txt  \n",
            "  inflating: /tmp/txt_tesis/acta_comision_2019_08_26_a_comi_credenciales.txt  \n"
          ],
          "name": "stdout"
        }
      ]
    },
    {
      "cell_type": "code",
      "metadata": {
        "id": "fL7FrcDEa2Ey",
        "colab_type": "code",
        "colab": {}
      },
      "source": [
        "dataPath='/tmp/txt_tesis/'\n",
        "data=''"
      ],
      "execution_count": 19,
      "outputs": []
    },
    {
      "cell_type": "code",
      "metadata": {
        "id": "5_sszimWbHxa",
        "colab_type": "code",
        "colab": {}
      },
      "source": [
        "docs=[]\n",
        "txtNames=[]\n",
        "for txtName in os.listdir(dataPath):\n",
        "    if('comision' in txtName):\n",
        "      txtNames.append(txtName)\n",
        "\n",
        "for txtName in txtNames:\n",
        "    txtFile=open(dataPath+txtName)\n",
        "    txtFile.seek(0)\n",
        "    docs.append(txtFile.read())\n",
        "    txtFile.close()"
      ],
      "execution_count": 23,
      "outputs": []
    },
    {
      "cell_type": "code",
      "metadata": {
        "id": "BKniaGtdLqPV",
        "colab_type": "code",
        "colab": {}
      },
      "source": [
        "comisiones={}\n",
        "p = re.compile('\\w+comi_(\\w+)')\n",
        "for txt in txtNames:\n",
        "  if('comision' in txt):\n",
        "    result = p.search(txt)\n",
        "    comision = result.group(1)\n",
        "    if comision not in comisiones:\n",
        "      comisiones[comision]=1\n",
        "    else:\n",
        "      value= comisiones.get(comision)\n",
        "      comisiones[comision]=value+1  "
      ],
      "execution_count": 26,
      "outputs": []
    },
    {
      "cell_type": "code",
      "metadata": {
        "id": "RUwJRSUBTHNF",
        "colab_type": "code",
        "colab": {
          "base_uri": "https://localhost:8080/",
          "height": 34
        },
        "outputId": "e283cb12-dbcd-4777-85b5-ae7e30778eab"
      },
      "source": [
        "len(comisiones)"
      ],
      "execution_count": 28,
      "outputs": [
        {
          "output_type": "execute_result",
          "data": {
            "text/plain": [
              "13"
            ]
          },
          "metadata": {
            "tags": []
          },
          "execution_count": 28
        }
      ]
    },
    {
      "cell_type": "code",
      "metadata": {
        "id": "kLXQ7YvLTPql",
        "colab_type": "code",
        "colab": {
          "base_uri": "https://localhost:8080/",
          "height": 238
        },
        "outputId": "7c8f7a07-0101-4196-b7e8-ecc343fc2f9c"
      },
      "source": [
        "comisiones"
      ],
      "execution_count": 29,
      "outputs": [
        {
          "output_type": "execute_result",
          "data": {
            "text/plain": [
              "{'canal': 8,\n",
              " 'comercio': 5,\n",
              " 'comunicacion': 8,\n",
              " 'credenciales': 23,\n",
              " 'educacion': 7,\n",
              " 'familia': 5,\n",
              " 'indigena': 1,\n",
              " 'justicia': 16,\n",
              " 'municipales': 4,\n",
              " 'poblacion': 5,\n",
              " 'presupuesto': 1,\n",
              " 'relaciones': 5,\n",
              " 'trabajo': 4}"
            ]
          },
          "metadata": {
            "tags": []
          },
          "execution_count": 29
        }
      ]
    },
    {
      "cell_type": "code",
      "metadata": {
        "id": "RCFBm5RQbPSA",
        "colab_type": "code",
        "colab": {}
      },
      "source": [
        "black_list=['diputado','secretario','punto','día','dia','acta','sesion','honorable','señor','periodo','sesiones','presidente','presidenta','sesion','sesiones','correspondencia','orden','pleno','proyecto','ministro','diputados','miembros','miembro','proyectos','funcionario','funcionarios','anteproyecto','anteproyectos']"
      ],
      "execution_count": 30,
      "outputs": []
    },
    {
      "cell_type": "code",
      "metadata": {
        "id": "GnzyyTknw04P",
        "colab_type": "code",
        "colab": {}
      },
      "source": [
        "def cleaner(word):\n",
        "  word = re.sub(r'((http|https)\\:\\/\\/)?[a-zA-Z0-9\\.\\/\\?\\:@\\-_=#]+\\.([a-zA-Z]){2,6}([a-zA-Z0-9\\.\\&\\/\\?\\:@\\-_=#])*', '', word, flags=re.MULTILINE)#Direcciones Web. \n",
        "  word = re.sub(r'\\#\\.', '', word)#Numerales seguidos de puntos.\n",
        "  word = re.sub(r'\\n', '', word)#Saltos de linea\n",
        "  word = re.sub(r',','', word)#Comas\n",
        "  word = re.sub(r'\\-', ' ', word)#Guiones.\n",
        "  word = re.sub(r'\\.{3}', ' ', word)#Puntos suspensivos.\n",
        "  word = re.sub(r'á', 'a', word)#tildes.\n",
        "  word = re.sub(r'é', 'e', word)\n",
        "  word = re.sub(r'í', 'i', word)\n",
        "  word = re.sub(r'ó', 'o', word)\n",
        "  word = re.sub(r'ú', 'u', word) \n",
        "  word = re.sub(r'a{2,}', 'a', word)#Dos o más a seguidas -->a \n",
        "  word = re.sub(r'e{2,}', 'e', word)#Dos o más e seguidas -->a \n",
        "  word = re.sub(r'i{2,}', 'i', word)#Dos o más i seguidas -->a \n",
        "  word = re.sub(r'o{2,}', 'o', word)#Dos o más o seguidas -->a \n",
        "  word = re.sub(r'u{2,}', 'u', word)#Dos o más u seguidas -->a \n",
        "  word = re.sub(r'ja{2,}', 'ja', word)#Jajaja -->ja  \n",
        "  word = re.sub('[^a-zA-Z]', ' ', word)#Todo lo que no sea palabras. \n",
        "  list_word_clean = []\n",
        "  for w1 in word.split(\" \"):\n",
        "    if  w1.lower() not in stopwords:\n",
        "      list_word_clean.append(w1.lower())\n",
        "\n",
        "  bigram_list = bigram[list_word_clean]\n",
        "  out_text = lemmatization(\" \".join(bigram_list))\n",
        "  return out_text"
      ],
      "execution_count": 31,
      "outputs": []
    },
    {
      "cell_type": "code",
      "metadata": {
        "id": "HbIhFR-Fw_0Q",
        "colab_type": "code",
        "colab": {}
      },
      "source": [
        "def lemmatization(texts, allowed_postags=['NOUN']):\n",
        "    texts_out = [ token.text for token in nlp(texts) if token.pos_ in \n",
        "                 allowed_postags and token.text not in black_list and len(token.text)>2]\n",
        "    return texts_out"
      ],
      "execution_count": 32,
      "outputs": []
    },
    {
      "cell_type": "code",
      "metadata": {
        "id": "oMZ-fQIBxDut",
        "colab_type": "code",
        "colab": {}
      },
      "source": [
        "bigram = gensim.models.Phrases(docs)"
      ],
      "execution_count": 33,
      "outputs": []
    },
    {
      "cell_type": "code",
      "metadata": {
        "id": "vKzOlhySxFBl",
        "colab_type": "code",
        "colab": {
          "base_uri": "https://localhost:8080/",
          "height": 102
        },
        "outputId": "312368d4-6680-4135-f781-831ba848cef9"
      },
      "source": [
        "import spacy.cli\n",
        "spacy.cli.download(\"es_core_news_md\")\n",
        "import spacy\n",
        "nlp = spacy.load('es_core_news_md')\n",
        "import nltk\n",
        "nltk.download('stopwords')"
      ],
      "execution_count": 34,
      "outputs": [
        {
          "output_type": "stream",
          "text": [
            "\u001b[38;5;2m✔ Download and installation successful\u001b[0m\n",
            "You can now load the model via spacy.load('es_core_news_md')\n",
            "[nltk_data] Downloading package stopwords to /root/nltk_data...\n",
            "[nltk_data]   Package stopwords is already up-to-date!\n"
          ],
          "name": "stdout"
        },
        {
          "output_type": "execute_result",
          "data": {
            "text/plain": [
              "True"
            ]
          },
          "metadata": {
            "tags": []
          },
          "execution_count": 34
        }
      ]
    },
    {
      "cell_type": "code",
      "metadata": {
        "id": "lLoKUDOYxWRU",
        "colab_type": "code",
        "colab": {}
      },
      "source": [
        "from nltk import word_tokenize\n",
        "from nltk.corpus import stopwords\n",
        "stop = set(stopwords.words('spanish'))\n",
        "\n",
        "additional_stopwords=set(black_list)\n",
        "\n",
        "stopwords = stop.union(additional_stopwords)\n"
      ],
      "execution_count": 35,
      "outputs": []
    },
    {
      "cell_type": "code",
      "metadata": {
        "id": "YIxGPyulxrfX",
        "colab_type": "code",
        "colab": {
          "base_uri": "https://localhost:8080/",
          "height": 71
        },
        "outputId": "2a5cc0c9-652c-4897-8df5-95e44ca6fe69"
      },
      "source": [
        "docsCleaned=[]\n",
        "for doc in docs:\n",
        "    docsCleaned.append(cleaner(doc))"
      ],
      "execution_count": 36,
      "outputs": [
        {
          "output_type": "stream",
          "text": [
            "/usr/local/lib/python3.6/dist-packages/gensim/models/phrases.py:598: UserWarning: For a faster implementation, use the gensim.models.phrases.Phraser class\n",
            "  warnings.warn(\"For a faster implementation, use the gensim.models.phrases.Phraser class\")\n"
          ],
          "name": "stderr"
        }
      ]
    },
    {
      "cell_type": "code",
      "metadata": {
        "id": "ubYvcCPhyCev",
        "colab_type": "code",
        "colab": {}
      },
      "source": [
        "dictionary = Dictionary(docsCleaned)"
      ],
      "execution_count": 37,
      "outputs": []
    },
    {
      "cell_type": "code",
      "metadata": {
        "id": "sbNlCOtMUkzE",
        "colab_type": "code",
        "colab": {}
      },
      "source": [
        "\n",
        "dictionary.compactify()#Da nuevos ID. \n",
        "#Filtramos palabras que estén en minimo 2 documentos y máximo el 97% de documentos. \n",
        "dictionary.filter_extremes(no_below=2, no_above=0.90, keep_n=None)\n",
        "dictionary.compactify()\n",
        "#Creamos el Corpus\n",
        "corpus = [dictionary.doc2bow(text) for text in docsCleaned]"
      ],
      "execution_count": 42,
      "outputs": []
    },
    {
      "cell_type": "code",
      "metadata": {
        "id": "UhdXg29iUmUT",
        "colab_type": "code",
        "colab": {}
      },
      "source": [
        "#Función para mostrar los temas. \n",
        "def display_topics(model, model_type=\"lda\"):\n",
        "  for topic_idx, topic in enumerate(model.print_topics()):\n",
        "    print (\"Topic %d:\" % (topic_idx))\n",
        "    if model_type== \"hdp\":\n",
        "      print (\" \".join(re.findall( r'\\*(.[^\\*-S]+).?', topic[1])), \"\\n\")\n",
        "    else:\n",
        "      print (\" \".join(re.findall( r'\\\"(.[^\"]+).?', topic[1])), \"\\n\")"
      ],
      "execution_count": 43,
      "outputs": []
    },
    {
      "cell_type": "code",
      "metadata": {
        "id": "vwyhN7V_Up8h",
        "colab_type": "code",
        "colab": {}
      },
      "source": [
        "hdpmodel=HdpModel(corpus=corpus,id2word=dictionary,random_state=30)"
      ],
      "execution_count": 44,
      "outputs": []
    },
    {
      "cell_type": "code",
      "metadata": {
        "id": "-Alh-3llUrpB",
        "colab_type": "code",
        "colab": {
          "base_uri": "https://localhost:8080/",
          "height": 1000
        },
        "outputId": "94e643c7-25a5-40b0-9e18-b24a70c0f477"
      },
      "source": [
        "display_topics(hdpmodel,model_type=\"hdp\")"
      ],
      "execution_count": 45,
      "outputs": [
        {
          "output_type": "stream",
          "text": [
            "Topic 0:\n",
            "personas  transporte  debate  palabra  carga  gente  cosas  desarrollo  forma  persona \n",
            "\n",
            "Topic 1:\n",
            "palabra  programa  tiempo  personas  oportunidad  acuerdo  trabajo  animales  apoyo  vida \n",
            "\n",
            "Topic 2:\n",
            "licencia  tipo  agua  transporte  problema  director  vez  cosas  palabra  personas \n",
            "\n",
            "Topic 3:\n",
            "carga  transporte  desarrollo  peso  dimensiones  vehiculo  agua  personas  debate  leyes \n",
            "\n",
            "Topic 4:\n",
            "cultura  articulo  contrataciones  palabra  personas  propuestas  acto  empresas  propuesta  autor \n",
            "\n",
            "Topic 5:\n",
            "personas  debate  persona  palabra  trabajo  titulo  caso  discapacidad  tipo  noviembre \n",
            "\n",
            "Topic 6:\n",
            "zona  sector  productor  propuesta  palabra  personas  productores  recursos  banco  gerente \n",
            "\n",
            "Topic 7:\n",
            "palabra  uso  debate  agua  personas  tiempo  recursos  momento  diputada  municipios \n",
            "\n",
            "Topic 8:\n",
            "papel  debate  doctor  justicia  reformas  temas  uso  palabra  vez  documento \n",
            "\n",
            "Topic 9:\n",
            "dispositivos  productos  salud  nivel  problema  basura  registro  artistas  diciembre  propuesta \n",
            "\n",
            "Topic 10:\n",
            "personas  director  tiempo  palabra  doctor  nivel  debate  nombre  relaciones  seguro \n",
            "\n",
            "Topic 11:\n",
            "empresa  cargos  precio  modificaciones  sistema  entidades  entidad  caso  proponentes  persona \n",
            "\n",
            "Topic 12:\n",
            "embajador  uso  relaciones  plenipotenciario  agua  desarrollo  administrador  remolcadores  servicios  tratamiento \n",
            "\n",
            "Topic 13:\n",
            "calles  trabajadores  personas  traspaso  momento  calle  secretaria  cosas  tiempo  debate \n",
            "\n",
            "Topic 14:\n",
            "adultos  mujer  infancia  personas  ejemplo  nivel  recursos  ministra  derechos  albergues \n",
            "\n",
            "Topic 15:\n",
            "armas  defensa  tiempo  persona  palabra  personas  juez  debate  instituciones  permiso \n",
            "\n",
            "Topic 16:\n",
            "delitos  edad  persona  personas  abuso  tipo  debate  pena  delito  tiempo \n",
            "\n",
            "Topic 17:\n",
            "copia  junta  decreto  octubre  director  vez  personas  empresa  capacidad  verdad \n",
            "\n",
            "Topic 18:\n",
            "medicamentos  desabastecimiento  salud  ministra  registro  problema  productos  calidad  nivel  abastecimiento \n",
            "\n",
            "Topic 19:\n",
            "armas  personas  edad  persona  proteccion  fuego  medidas  arma  perseverancia  transporte \n",
            "\n"
          ],
          "name": "stdout"
        }
      ]
    },
    {
      "cell_type": "code",
      "metadata": {
        "id": "7IFrS2S3UvTn",
        "colab_type": "code",
        "colab": {}
      },
      "source": [
        "lsimodel = LsiModel(corpus=corpus, num_topics=13, id2word=dictionary)"
      ],
      "execution_count": 47,
      "outputs": []
    },
    {
      "cell_type": "code",
      "metadata": {
        "id": "00pPFRV4VKGM",
        "colab_type": "code",
        "colab": {
          "base_uri": "https://localhost:8080/",
          "height": 680
        },
        "outputId": "b5686a45-7f60-4d9b-b9dc-4c8d9d249f5d"
      },
      "source": [
        "display_topics(lsimodel)"
      ],
      "execution_count": 48,
      "outputs": [
        {
          "output_type": "stream",
          "text": [
            "Topic 0:\n",
            "personas palabra tipo debate tiempo momento persona vez cosas licencia \n",
            "\n",
            "Topic 1:\n",
            "licencia tipo transporte vehiculo palabra examenes autoridad carga puntos pasajeros \n",
            "\n",
            "Topic 2:\n",
            "carga cultura transporte licencia tipo articulo dimensiones personas peso edad \n",
            "\n",
            "Topic 3:\n",
            "cultura carga articulo transporte agua personas contrataciones licencia dimensiones productos \n",
            "\n",
            "Topic 4:\n",
            "cultura persona personas delitos agua armas articulo edad delito defensa \n",
            "\n",
            "Topic 5:\n",
            "contrataciones productos agua cultura reglamento propuestas propuesta precio dispositivos salud \n",
            "\n",
            "Topic 6:\n",
            "contrataciones salud productos dispositivos reglamento palabra problema acto personas cargos \n",
            "\n",
            "Topic 7:\n",
            "agua uso debate director trabajo medicamentos salud registro ministra personas \n",
            "\n",
            "Topic 8:\n",
            "personas armas defensa debate reglamento tiempo agua juez contrataciones palabra \n",
            "\n",
            "Topic 9:\n",
            "productor sector banco agua productores banca compras alcance propuesta contrataciones \n",
            "\n",
            "Topic 10:\n",
            "delitos armas reglamento edad defensa abuso debate personas dispositivos sistema \n",
            "\n",
            "Topic 11:\n",
            "agua programa director personas uso animales adultos cultura debate desarrollo \n",
            "\n",
            "Topic 12:\n",
            "personas uso reglamento adultos edad problema delitos productos ministra ejemplo \n",
            "\n"
          ],
          "name": "stdout"
        }
      ]
    },
    {
      "cell_type": "code",
      "metadata": {
        "id": "ADB5Uhh3VM6b",
        "colab_type": "code",
        "colab": {}
      },
      "source": [
        "ldamodel= LdaModel(corpus=corpus,num_topics=13,id2word=dictionary)"
      ],
      "execution_count": 50,
      "outputs": []
    },
    {
      "cell_type": "code",
      "metadata": {
        "id": "rjtUTlNZVcZI",
        "colab_type": "code",
        "colab": {
          "base_uri": "https://localhost:8080/",
          "height": 680
        },
        "outputId": "f934fdbb-b6c4-4e19-90b4-f1cc594968df"
      },
      "source": [
        "display_topics(ldamodel)"
      ],
      "execution_count": 51,
      "outputs": [
        {
          "output_type": "stream",
          "text": [
            "Topic 0:\n",
            "personas debate palabra tiempo persona cosas transporte acuerdo vida nivel \n",
            "\n",
            "Topic 1:\n",
            "debate personas tipo palabra tiempo persona vez forma trabajo acuerdo \n",
            "\n",
            "Topic 2:\n",
            "personas palabra debate tipo tiempo vida cosas momento vez persona \n",
            "\n",
            "Topic 3:\n",
            "personas palabra momento tiempo nivel vez uso requisitos agua gente \n",
            "\n",
            "Topic 4:\n",
            "personas palabra transporte persona vez debate tiempo momento sector acuerdo \n",
            "\n",
            "Topic 5:\n",
            "palabra personas momento nivel vez vida agua tiempo forma debate \n",
            "\n",
            "Topic 6:\n",
            "personas debate palabra tiempo momento nivel vez reglamento vida uso \n",
            "\n",
            "Topic 7:\n",
            "personas palabra tiempo uso debate vida momento desarrollo vez caso \n",
            "\n",
            "Topic 8:\n",
            "personas debate momento palabra uso persona trabajo tipo reglamento tiempo \n",
            "\n",
            "Topic 9:\n",
            "palabra personas vez momento debate persona tiempo cosas ejemplo tipo \n",
            "\n",
            "Topic 10:\n",
            "personas palabra reglamento tipo licencia persona vez cosas tiempo momento \n",
            "\n",
            "Topic 11:\n",
            "palabra personas debate tiempo momento vez cosas caso secretaria uso \n",
            "\n",
            "Topic 12:\n",
            "personas palabra momento tipo debate vida persona reglamento vez nivel \n",
            "\n"
          ],
          "name": "stdout"
        }
      ]
    },
    {
      "cell_type": "code",
      "metadata": {
        "id": "vJb2lAmmVgZ_",
        "colab_type": "code",
        "colab": {}
      },
      "source": [
        ""
      ],
      "execution_count": null,
      "outputs": []
    }
  ]
}