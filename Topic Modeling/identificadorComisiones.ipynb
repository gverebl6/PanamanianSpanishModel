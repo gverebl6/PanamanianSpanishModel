{
  "nbformat": 4,
  "nbformat_minor": 0,
  "metadata": {
    "colab": {
      "name": "identificadorComisiones.ipynb",
      "provenance": [],
      "collapsed_sections": []
    },
    "kernelspec": {
      "name": "python_defaultSpec_1600620370401",
      "display_name": "Python 3.8.5 32-bit"
    }
  },
  "cells": [
    {
      "cell_type": "code",
      "metadata": {
        "id": "DD7VgdZFQIrk",
        "colab_type": "code",
        "colab": {
          "base_uri": "https://localhost:8080/",
          "height": 204
        },
        "outputId": "d91bd664-4372-4d70-84b3-ae261f84f4bc"
      },
      "source": [
        "!wget --no-check-certificate \\\n",
        " https://storage.googleapis.com/txt_tesis/txts_extracted.zip \\\n",
        " -O /tmp/files.zip"
      ],
      "execution_count": 1,
      "outputs": [
        {
          "output_type": "stream",
          "text": [
            "--2020-09-22 14:39:41--  https://storage.googleapis.com/txt_tesis/txts_extracted.zip\n",
            "Resolving storage.googleapis.com (storage.googleapis.com)... 64.233.189.128, 108.177.97.128, 108.177.125.128, ...\n",
            "Connecting to storage.googleapis.com (storage.googleapis.com)|64.233.189.128|:443... connected.\n",
            "HTTP request sent, awaiting response... 200 OK\n",
            "Length: 2887953 (2.8M) [application/zip]\n",
            "Saving to: ‘/tmp/files.zip’\n",
            "\n",
            "/tmp/files.zip      100%[===================>]   2.75M  --.-KB/s    in 0.02s   \n",
            "\n",
            "2020-09-22 14:39:43 (141 MB/s) - ‘/tmp/files.zip’ saved [2887953/2887953]\n",
            "\n"
          ],
          "name": "stdout"
        }
      ]
    },
    {
      "cell_type": "code",
      "metadata": {
        "id": "xsfh4zwMQH4j",
        "colab_type": "code",
        "colab": {
          "base_uri": "https://localhost:8080/",
          "height": 1000
        },
        "outputId": "fe83514c-50a3-494f-e62c-6fe289c1eee4"
      },
      "source": [
        "!unzip /tmp/files.zip -d /tmp/"
      ],
      "execution_count": 2,
      "outputs": [
        {
          "output_type": "stream",
          "text": [
            "Archive:  /tmp/files.zip\n",
            "   creating: /tmp/txt_tesis/\n",
            "  inflating: /tmp/txt_tesis/acta_comision_2020_01_21_a_comi_justicia.txt  \n",
            "  inflating: /tmp/txt_tesis/acta_comision_2019_09_04_a_comi_credenciales.txt  \n",
            "  inflating: /tmp/txt_tesis/acta_pleno_2019_07_15_a_pleno.txt  \n",
            "  inflating: /tmp/txt_tesis/acta_comision_2019_07_23_a_comi_credenciales.txt  \n",
            "  inflating: /tmp/txt_tesis/acta_pleno_2019_09_18_a_pleno.txt  \n",
            "  inflating: /tmp/txt_tesis/acta_comision_2019_10_29_a_comi_justicia.txt  \n",
            "  inflating: /tmp/txt_tesis/acta_pleno_2019_10_24_a_pleno.txt  \n",
            "  inflating: /tmp/txt_tesis/acta_comision_2020_01_22_a_comi_canal.txt  \n",
            "  inflating: /tmp/txt_tesis/acta_comision_2019_09_05_a_comi_credenciales.txt  \n",
            "  inflating: /tmp/txt_tesis/acta_comision_2019_07_18_a_comi_justicia.txt  \n",
            "  inflating: /tmp/txt_tesis/acta_comision_2019_07_30_a_comi_justicia.txt  \n",
            "  inflating: /tmp/txt_tesis/acta_pleno_2019_09_03_a_pleno.txt  \n",
            "  inflating: /tmp/txt_tesis/acta_pleno_2019_12_04_a_pleno.txt  \n",
            "  inflating: /tmp/txt_tesis/acta_comision_2019_07_23_a_comi_trabajo.txt  \n",
            "  inflating: /tmp/txt_tesis/acta_pleno_2019_08_28_a_pleno.txt  \n",
            "  inflating: /tmp/txt_tesis/acta_comision_2019_09_24_a_comi_credenciales.txt  \n",
            "  inflating: /tmp/txt_tesis/acta_comision_2019_07_30_a_comi_poblacion.txt  \n",
            "  inflating: /tmp/txt_tesis/acta_comision_2019_07_23_a_comi_familia.txt  \n",
            "  inflating: /tmp/txt_tesis/acta_comision_2019_08_14_a_comi_credenciales.txt  \n",
            "  inflating: /tmp/txt_tesis/acta_comision_2020_01_15_a_comi_poblacion.txt  \n",
            "  inflating: /tmp/txt_tesis/acta_pleno_2019_09_24_a_pleno.txt  \n",
            "  inflating: /tmp/txt_tesis/acta_pleno_2019_07_09_a_pleno.txt  \n",
            "  inflating: /tmp/txt_tesis/acta_pleno_2019_08_12_a_pleno.txt  \n",
            "  inflating: /tmp/txt_tesis/acta_comision_2019_07_17_a_comi_presupuesto.txt  \n",
            "  inflating: /tmp/txt_tesis/acta_pleno_2019_09_25_a_pleno.txt  \n",
            "  inflating: /tmp/txt_tesis/acta_comision_2019_11_13_a_comi_comercio.txt  \n",
            "  inflating: /tmp/txt_tesis/acta_pleno_2019_07_01_a_pleno.txt  \n",
            "  inflating: /tmp/txt_tesis/acta_comision_2020_01_28_a_comi_justicia.txt  \n",
            "  inflating: /tmp/txt_tesis/acta_pleno_2019_10_10_a_pleno.txt  \n",
            "  inflating: /tmp/txt_tesis/acta_pleno_2019_07_22_a_pleno.txt  \n",
            "  inflating: /tmp/txt_tesis/acta_comision_2019_07_22_a_comi_municipales.txt  \n",
            "  inflating: /tmp/txt_tesis/acta_comision_2019_08_21_a_comi_educacion.txt  \n",
            "  inflating: /tmp/txt_tesis/acta_pleno_2019_07_18_a_pleno.txt  \n",
            "  inflating: /tmp/txt_tesis/acta_comision_2019_07_18_a_comi_credenciales.txt  \n",
            "  inflating: /tmp/txt_tesis/acta_comision_2019_08_06_a_comi_poblacion.txt  \n",
            "  inflating: /tmp/txt_tesis/acta_comision_2019_08_26_a_comi_relaciones.txt  \n",
            "  inflating: /tmp/txt_tesis/acta_comision_2019_09_11_a_comi_justicia.txt  \n",
            "  inflating: /tmp/txt_tesis/acta_pleno_2019_08_19_a_pleno.txt  \n",
            "  inflating: /tmp/txt_tesis/acta_pleno_2019_08_20_a_pleno.txt  \n",
            "  inflating: /tmp/txt_tesis/acta_pleno_2019_07_04_a_pleno.txt  \n",
            "  inflating: /tmp/txt_tesis/acta_pleno_2019_08_26_a_pleno.txt  \n",
            "  inflating: /tmp/txt_tesis/acta_comision_2019_09_16_a_comi_comunicacion.txt  \n",
            "  inflating: /tmp/txt_tesis/acta_comision_2019_09_10_a_comi_relaciones.txt  \n",
            "  inflating: /tmp/txt_tesis/acta_comision_2019_07_31_a_comi_credenciales.txt  \n",
            "  inflating: /tmp/txt_tesis/acta_comision_2020_01_16_a_comi_credenciales.txt  \n",
            "  inflating: /tmp/txt_tesis/acta_comision_2019_10_14_a_comi_comunicacion.txt  \n",
            "  inflating: /tmp/txt_tesis/acta_pleno_2019_08_22_a_pleno.txt  \n",
            "  inflating: /tmp/txt_tesis/acta_comision_2019_08_01_a_comi_credenciales.txt  \n",
            "  inflating: /tmp/txt_tesis/acta_pleno_2019_09_16_a_pleno.txt  \n",
            "  inflating: /tmp/txt_tesis/acta_pleno_2019_07_11_a_pleno.txt  \n",
            "  inflating: /tmp/txt_tesis/acta_comision_2019_08_16_a_comi_justicia.txt  \n",
            "  inflating: /tmp/txt_tesis/acta_pleno_2019_11_27_a_pleno.txt  \n",
            "  inflating: /tmp/txt_tesis/acta_comision_2019_10_02_a_comi_educacion.txt  \n",
            "  inflating: /tmp/txt_tesis/acta_pleno_2019_08_01_a_pleno.txt  \n",
            "  inflating: /tmp/txt_tesis/acta_comision_2019_08_19_a_comi_comunicacion.txt  \n",
            "  inflating: /tmp/txt_tesis/acta_comision_2019_08_19_a_comi_municipales.txt  \n",
            "  inflating: /tmp/txt_tesis/acta_comision_2019_09_06_a_comi_justicia.txt  \n",
            "  inflating: /tmp/txt_tesis/acta_comision_2019_10_03_a_comi_justicia.txt  \n",
            "  inflating: /tmp/txt_tesis/acta_comision_2019_09_09_a_comi_comunicacion.txt  \n",
            "  inflating: /tmp/txt_tesis/acta_comision_2019_08_27_a_comi_justicia.txt  \n",
            "  inflating: /tmp/txt_tesis/acta_comision_2019_10_29_a_comi_familia.txt  \n",
            "  inflating: /tmp/txt_tesis/acta_pleno_2019_07_29_a_pleno.txt  \n",
            "  inflating: /tmp/txt_tesis/acta_comision_2019_08_05_a_comi_credenciales.txt  \n",
            "  inflating: /tmp/txt_tesis/acta_pleno_2019_08_13_a_pleno.txt  \n",
            "  inflating: /tmp/txt_tesis/acta_pleno_2019_07_23_a_pleno.txt  \n",
            "  inflating: /tmp/txt_tesis/acta_comision_2019_08_07_a_comi_educacion.txt  \n",
            "  inflating: /tmp/txt_tesis/acta_comision_2020_01_08_a_comi_municipales.txt  \n",
            "  inflating: /tmp/txt_tesis/acta_pleno_2019_10_29_a_pleno.txt  \n",
            "  inflating: /tmp/txt_tesis/acta_pleno_2019_09_02_a_pleno.txt  \n",
            "  inflating: /tmp/txt_tesis/acta_comision_2019_09_25_a_comi_educacion.txt  \n",
            "  inflating: /tmp/txt_tesis/acta_comision_2019_10_14_a_comi_credenciales.txt  \n",
            "  inflating: /tmp/txt_tesis/acta_pleno_2019_09_23_a_pleno.txt  \n",
            "  inflating: /tmp/txt_tesis/acta_comision_2019_07_24_a_comi_credenciales.txt  \n",
            "  inflating: /tmp/txt_tesis/acta_comision_2019_09_18_a_comi_educacion.txt  \n",
            "  inflating: /tmp/txt_tesis/acta_comision_2019_08_28_a_comi_municipales.txt  \n",
            "  inflating: /tmp/txt_tesis/acta_comision_2019_07_31_a_comi_trabajo.txt  \n",
            "  inflating: /tmp/txt_tesis/acta_comision_2019_10_07_a_comi_comunicacion.txt  \n",
            "  inflating: /tmp/txt_tesis/acta_pleno_2019_07_17_a_pleno.txt  \n",
            "  inflating: /tmp/txt_tesis/acta_pleno_2019_08_05_a_pleno.txt  \n",
            "  inflating: /tmp/txt_tesis/acta_comision_2019_07_22_a_comi_comercio.txt  \n",
            "  inflating: /tmp/txt_tesis/acta_comision_2019_08_21_a_comi_credenciales.txt  \n",
            "  inflating: /tmp/txt_tesis/acta_pleno_2019_09_17_a_pleno.txt  \n",
            "  inflating: /tmp/txt_tesis/acta_comision_2019_10_07_a_comi_familia.txt  \n",
            "  inflating: /tmp/txt_tesis/acta_comision_2019_10_11_a_comi_justicia.txt  \n",
            "  inflating: /tmp/txt_tesis/acta_comision_2019_07_31_a_comi_relaciones.txt  \n",
            "  inflating: /tmp/txt_tesis/acta_comision_2019_10_02_v_comi_comercio.txt  \n",
            "  inflating: /tmp/txt_tesis/acta_pleno_2019_07_25_a_pleno.txt  \n",
            "  inflating: /tmp/txt_tesis/acta_pleno_2019_08_29_a_pleno.txt  \n",
            "  inflating: /tmp/txt_tesis/acta_comision_2020_01_08_a_comi_credenciales.txt  \n",
            "  inflating: /tmp/txt_tesis/acta_pleno_2019_07_30_a_pleno.txt  \n",
            "  inflating: /tmp/txt_tesis/acta_pleno_2019_07_10_a_pleno.txt  \n",
            "  inflating: /tmp/txt_tesis/acta_comision_2019_10_15_a_comi_canal.txt  \n",
            "  inflating: /tmp/txt_tesis/acta_comision_2019_09_30_a_comi_comunicacion.txt  \n",
            "  inflating: /tmp/txt_tesis/acta_comision_2019_07_29_a_comi_credenciales.txt  \n",
            "  inflating: /tmp/txt_tesis/acta_pleno_2019_10_08_a_pleno.txt  \n",
            "  inflating: /tmp/txt_tesis/acta_comision_2019_09_03_a_comi_comercio.txt  \n",
            "  inflating: /tmp/txt_tesis/acta_pleno_2019_08_08_a_pleno.txt  \n",
            "  inflating: /tmp/txt_tesis/acta_pleno_2019_07_02_a_pleno.txt  \n",
            "  inflating: /tmp/txt_tesis/acta_comision_2019_08_01_a_comi_familia.txt  \n",
            "  inflating: /tmp/txt_tesis/acta_pleno_2019_07_24_a_pleno.txt  \n",
            "  inflating: /tmp/txt_tesis/acta_pleno_2019_11_26_a_pleno.txt  \n",
            "  inflating: /tmp/txt_tesis/acta_pleno_2019_07_31_a_pleno.txt  \n",
            "  inflating: /tmp/txt_tesis/acta_comision_2019_10_01_a_comi_canal.txt  \n",
            "  inflating: /tmp/txt_tesis/acta_comision_2019_07_31_a_comi_educacion.txt  \n",
            "  inflating: /tmp/txt_tesis/acta_pleno_2019_09_19_a_pleno.txt  \n",
            "  inflating: /tmp/txt_tesis/acta_pleno_2019_08_21_a_pleno.txt  \n",
            "  inflating: /tmp/txt_tesis/acta_comision_2019_09_24_a_comi_indigena.txt  \n",
            "  inflating: /tmp/txt_tesis/acta_comision_2019_07_26_a_comi_canal.txt  \n",
            "  inflating: /tmp/txt_tesis/acta_comision_2019_11_20_a_comi_canal.txt  \n",
            "  inflating: /tmp/txt_tesis/acta_comision_2019_08_13_a_comi_comercio.txt  \n",
            "  inflating: /tmp/txt_tesis/acta_pleno_2019_08_27_a_pleno.txt  \n",
            "  inflating: /tmp/txt_tesis/acta_comision_2019_10_08_a_comi_relaciones.txt  \n",
            "  inflating: /tmp/txt_tesis/acta_comision_2019_08_06_a_comi_trabajo.txt  \n",
            "  inflating: /tmp/txt_tesis/acta_comision_2019_12_02_a_comi_credenciales.txt  \n",
            "  inflating: /tmp/txt_tesis/acta_comision_2019_08_06_a_comi_canal.txt  \n",
            "  inflating: /tmp/txt_tesis/acta_pleno_2019_07_03_a_pleno.txt  \n",
            "  inflating: /tmp/txt_tesis/acta_comision_2019_09_12_a_comi_justicia.txt  \n",
            "  inflating: /tmp/txt_tesis/acta_comision_2020_02_11_a_comi_credenciales.txt  \n",
            "  inflating: /tmp/txt_tesis/acta_comision_2020_01_14_a_comi_justicia.txt  \n",
            "  inflating: /tmp/txt_tesis/acta_comision_2019_07_18_b_comi_credenciales.txt  \n",
            "  inflating: /tmp/txt_tesis/acta_pleno_2019_07_16_a_pleno.txt  \n",
            "  inflating: /tmp/txt_tesis/acta_comision_2019_12_11_a_comi_poblacion.txt  \n",
            "  inflating: /tmp/txt_tesis/acta_comision_2019_10_16_a_comi_relaciones.txt  \n",
            "  inflating: /tmp/txt_tesis/acta_comision_2019_08_12_a_comi_credenciales.txt  \n",
            "  inflating: /tmp/txt_tesis/acta_comision_2020_01_29_a_comi_comunicacion.txt  \n",
            "  inflating: /tmp/txt_tesis/acta_comision_2019_09_03_a_comi_justicia.txt  \n",
            "  inflating: /tmp/txt_tesis/acta_pleno_2019_12_02_a_pleno.txt  \n",
            "  inflating: /tmp/txt_tesis/acta_comision_2019_08_27_a_comi_canal.txt  \n",
            "  inflating: /tmp/txt_tesis/acta_comision_2019_09_10_a_comi_canal.txt  \n",
            "  inflating: /tmp/txt_tesis/acta_comision_2020_02_06_a_comi_credenciales.txt  \n",
            "  inflating: /tmp/txt_tesis/acta_comision_2019_09_03_a_comi_trabajo.txt  \n",
            "  inflating: /tmp/txt_tesis/acta_comision_2019_07_31_a_comi_comunicacion.txt  \n",
            "  inflating: /tmp/txt_tesis/acta_comision_2019_10_14_a_comi_familia.txt  \n",
            "  inflating: /tmp/txt_tesis/acta_pleno_2019_08_06_a_pleno.txt  \n",
            "  inflating: /tmp/txt_tesis/acta_pleno_2019_08_07_a_pleno.txt  \n",
            "  inflating: /tmp/txt_tesis/acta_pleno_2019_08_14_a_pleno.txt  \n",
            "  inflating: /tmp/txt_tesis/acta_comision_2019_10_30_a_comi_educacion.txt  \n",
            "  inflating: /tmp/txt_tesis/acta_comision_2019_08_24_a_comi_justicia.txt  \n",
            "  inflating: /tmp/txt_tesis/acta_pleno_2019_12_17_a_pleno.txt  \n",
            "  inflating: /tmp/txt_tesis/acta_comision_2019_10_30_a_comi_credenciales.txt  \n",
            "  inflating: /tmp/txt_tesis/acta_pleno_2019_10_30_a_pleno.txt  \n",
            "  inflating: /tmp/txt_tesis/acta_comision_2019_08_20_a_comi_poblacion.txt  \n",
            "  inflating: /tmp/txt_tesis/acta_comision_2019_08_07_a_comi_credenciales.txt  \n",
            "  inflating: /tmp/txt_tesis/acta_comision_2019_08_07_a_comi_justicia.txt  \n",
            "  inflating: /tmp/txt_tesis/acta_pleno_2019_11_25_a_pleno.txt  \n",
            "  inflating: /tmp/txt_tesis/acta_comision_2019_08_26_a_comi_credenciales.txt  \n"
          ],
          "name": "stdout"
        }
      ]
    },
    {
      "cell_type": "code",
      "metadata": {
        "id": "6ZXIR4UeDn-w",
        "colab_type": "code",
        "colab": {}
      },
      "source": [
        "import os\n",
        "import re\n",
        "dataPath='/tmp/txt_tesis/'\n",
        "txtNames=[]"
      ],
      "execution_count": 22,
      "outputs": []
    },
    {
      "cell_type": "code",
      "metadata": {
        "id": "EaIGJRXNEUsB",
        "colab_type": "code",
        "colab": {}
      },
      "source": [
        "for txt in os.listdir(dataPath):\n",
        "  txtNames.append(txt)"
      ],
      "execution_count": 23,
      "outputs": []
    },
    {
      "cell_type": "code",
      "metadata": {
        "id": "f5V0Zp0bGLNK",
        "colab_type": "code",
        "colab": {}
      },
      "source": [
        "comisiones= {}"
      ],
      "execution_count": 24,
      "outputs": []
    },
    {
      "cell_type": "code",
      "metadata": {
        "id": "cVbN9nAUH2hL",
        "colab_type": "code",
        "colab": {}
      },
      "source": [
        "p = re.compile('\\w+comi_(\\w+)')\n",
        "for txt in txtNames:\n",
        "  if('comision' in txt):\n",
        "    result = p.search(txt)\n",
        "    comision = result.group(1)\n",
        "    if comision not in comisiones:\n",
        "      comisiones[comision]=1\n",
        "    else:\n",
        "      value= comisiones.get(comision)\n",
        "      comisiones[comision]=value+1  "
      ],
      "execution_count": 25,
      "outputs": []
    },
    {
      "cell_type": "code",
      "metadata": {
        "id": "aBe9Rl3jLEy2",
        "colab_type": "code",
        "colab": {
          "base_uri": "https://localhost:8080/",
          "height": 238
        },
        "outputId": "4667c43a-168f-4801-f0a5-9206cd542b65"
      },
      "source": [
        "comisiones"
      ],
      "execution_count": 26,
      "outputs": [
        {
          "output_type": "execute_result",
          "data": {
            "text/plain": [
              "{'canal': 8,\n",
              " 'comercio': 5,\n",
              " 'comunicacion': 8,\n",
              " 'credenciales': 23,\n",
              " 'educacion': 7,\n",
              " 'familia': 5,\n",
              " 'indigena': 1,\n",
              " 'justicia': 16,\n",
              " 'municipales': 4,\n",
              " 'poblacion': 5,\n",
              " 'presupuesto': 1,\n",
              " 'relaciones': 5,\n",
              " 'trabajo': 4}"
            ]
          },
          "metadata": {
            "tags": []
          },
          "execution_count": 26
        }
      ]
    },
    {
      "cell_type": "code",
      "metadata": {
        "id": "SaTKxnfZLOTX",
        "colab_type": "code",
        "colab": {}
      },
      "source": [
        ""
      ],
      "execution_count": null,
      "outputs": []
    }
  ]
}