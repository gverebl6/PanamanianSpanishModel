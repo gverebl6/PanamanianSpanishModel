{
  "nbformat": 4,
  "nbformat_minor": 0,
  "metadata": {
    "colab": {
      "name": "Identificador de Comisiones.ipynb",
      "provenance": []
    },
    "kernelspec": {
      "name": "python3",
      "display_name": "Python 3"
    }
  },
  "cells": [
    {
      "cell_type": "code",
      "metadata": {
        "id": "6ZXIR4UeDn-w",
        "colab_type": "code",
        "colab": {}
      },
      "source": [
        "import os\n",
        "import re\n",
        "dataPath='data'\n",
        "txtNames=[]"
      ],
      "execution_count": 58,
      "outputs": []
    },
    {
      "cell_type": "code",
      "metadata": {
        "id": "EaIGJRXNEUsB",
        "colab_type": "code",
        "colab": {}
      },
      "source": [
        "for txt in os.listdir(dataPath):\n",
        "  txtNames.append(txt)"
      ],
      "execution_count": 59,
      "outputs": []
    },
    {
      "cell_type": "code",
      "metadata": {
        "id": "f5V0Zp0bGLNK",
        "colab_type": "code",
        "colab": {}
      },
      "source": [
        "comisiones= {}"
      ],
      "execution_count": 60,
      "outputs": []
    },
    {
      "cell_type": "code",
      "metadata": {
        "id": "cVbN9nAUH2hL",
        "colab_type": "code",
        "colab": {}
      },
      "source": [
        "p = re.compile('.+COMI_([A-Z]+).*')\n",
        "for txt in txtNames:\n",
        "  result = p.search(txt)\n",
        "  comision = result.group(1)\n",
        "  if comision not in comisiones:\n",
        "    comisiones[comision]=1\n",
        "  else:\n",
        "    value= comisiones.get(comision)\n",
        "    comisiones[comision]=value+1  "
      ],
      "execution_count": 61,
      "outputs": []
    },
    {
      "cell_type": "code",
      "metadata": {
        "id": "aBe9Rl3jLEy2",
        "colab_type": "code",
        "colab": {
          "base_uri": "https://localhost:8080/",
          "height": 272
        },
        "outputId": "d92ea85c-9021-4768-def7-a5999c3f0093"
      },
      "source": [
        "comisiones"
      ],
      "execution_count": 62,
      "outputs": [
        {
          "output_type": "execute_result",
          "data": {
            "text/plain": [
              "{'AGRO': 2,\n",
              " 'CANAL': 2,\n",
              " 'COMERCIO': 2,\n",
              " 'COMUNICACION': 2,\n",
              " 'CREDENCIALES': 2,\n",
              " 'EDUCACION': 2,\n",
              " 'FAMILIA': 2,\n",
              " 'FINANZAS': 2,\n",
              " 'INDIGENA': 2,\n",
              " 'JUSTICIA': 2,\n",
              " 'MUNICIPALES': 2,\n",
              " 'POBLACION': 2,\n",
              " 'PRESUPUESTO': 2,\n",
              " 'RELACIONES': 2,\n",
              " 'TRABAJO': 2}"
            ]
          },
          "metadata": {
            "tags": []
          },
          "execution_count": 62
        }
      ]
    },
    {
      "cell_type": "code",
      "metadata": {
        "id": "SaTKxnfZLOTX",
        "colab_type": "code",
        "colab": {}
      },
      "source": [
        ""
      ],
      "execution_count": null,
      "outputs": []
    }
  ]
}