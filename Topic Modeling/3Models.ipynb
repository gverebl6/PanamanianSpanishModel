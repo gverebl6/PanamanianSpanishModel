{
  "nbformat": 4,
  "nbformat_minor": 0,
  "metadata": {
    "colab": {
      "name": "Untitled4.ipynb",
      "provenance": []
    },
    "kernelspec": {
      "name": "python3",
      "display_name": "Python 3"
    }
  },
  "cells": [
    {
      "cell_type": "code",
      "metadata": {
        "id": "Ew3_KB2GfNTU",
        "colab_type": "code",
        "colab": {}
      },
      "source": [
        "import pandas as pd\n",
        "import os\n",
        "import numpy as np\n",
        "import re\n",
        "import nltk\n",
        "from nltk.stem import WordNetLemmatizer\n",
        "from nltk import word_tokenize\n",
        "from nltk.corpus import stopwords\n",
        "import string\n",
        "import matplotlib.pyplot as plt\n",
        "import gensim\n",
        "import numpy as np\n",
        "from gensim.models import CoherenceModel, LdaModel, LsiModel, HdpModel\n",
        "from gensim.models.wrappers import LdaMallet\n",
        "from gensim.corpora import Dictionary"
      ],
      "execution_count": 5,
      "outputs": []
    },
    {
      "cell_type": "code",
      "metadata": {
        "id": "jQ6cAaoKv5sz",
        "colab_type": "code",
        "colab": {}
      },
      "source": [
        "outputPath='data//'\n",
        "docs=[]\n",
        "txtNames=[]\n",
        "for txtName in os.listdir(outputPath):\n",
        "    txtNames.append(txtName)\n",
        "\n",
        "for txtName in txtNames:\n",
        "    txtFile=open(outputPath+txtName)\n",
        "    txtFile.seek(0)\n",
        "    docs.append(txtFile.read())\n",
        "    txtFile.close()"
      ],
      "execution_count": 12,
      "outputs": []
    },
    {
      "cell_type": "code",
      "metadata": {
        "id": "0nj8aKDJzITV",
        "colab_type": "code",
        "colab": {}
      },
      "source": [
        "black_list=['diputado','secretario','punto','día','dia','acta','sesion','honorable','señor','periodo','sesiones','presidente','presidenta','sesion','sesiones','correspondencia','orden','pleno','proyecto','ministro','diputados','miembros','miembro','proyectos','funcionario','funcionarios','anteproyecto','anteproyectos'] "
      ],
      "execution_count": 52,
      "outputs": []
    },
    {
      "cell_type": "code",
      "metadata": {
        "id": "vTEnaG4EzNwh",
        "colab_type": "code",
        "colab": {}
      },
      "source": [
        "def cleaner(word):\n",
        "  word = re.sub(r'((http|https)\\:\\/\\/)?[a-zA-Z0-9\\.\\/\\?\\:@\\-_=#]+\\.([a-zA-Z]){2,6}([a-zA-Z0-9\\.\\&\\/\\?\\:@\\-_=#])*', '', word, flags=re.MULTILINE)#Direcciones Web. \n",
        "  word = re.sub(r'\\#\\.', '', word)#Numerales seguidos de puntos.\n",
        "  word = re.sub(r'\\n', '', word)#Saltos de linea\n",
        "  word = re.sub(r',','', word)#Comas\n",
        "  word = re.sub(r'\\-', ' ', word)#Guiones.\n",
        "  word = re.sub(r'\\.{3}', ' ', word)#Puntos suspensivos.\n",
        "  word = re.sub(r'á', 'a', word)#tildes.\n",
        "  word = re.sub(r'é', 'e', word)\n",
        "  word = re.sub(r'í', 'i', word)\n",
        "  word = re.sub(r'ó', 'o', word)\n",
        "  word = re.sub(r'ú', 'u', word) \n",
        "  word = re.sub(r'a{2,}', 'a', word)#Dos o más a seguidas -->a \n",
        "  word = re.sub(r'e{2,}', 'e', word)#Dos o más e seguidas -->a \n",
        "  word = re.sub(r'i{2,}', 'i', word)#Dos o más i seguidas -->a \n",
        "  word = re.sub(r'o{2,}', 'o', word)#Dos o más o seguidas -->a \n",
        "  word = re.sub(r'u{2,}', 'u', word)#Dos o más u seguidas -->a \n",
        "  word = re.sub(r'ja{2,}', 'ja', word)#Jajaja -->ja  \n",
        "  word = re.sub('[^a-zA-Z]', ' ', word)#Todo lo que no sea palabras. \n",
        "  list_word_clean = []\n",
        "  for w1 in word.split(\" \"):\n",
        "    if  w1.lower() not in stopwords:\n",
        "      list_word_clean.append(w1.lower())\n",
        "\n",
        "  bigram_list = bigram[list_word_clean]\n",
        "  out_text = lemmatization(\" \".join(bigram_list))\n",
        "  return out_text"
      ],
      "execution_count": 53,
      "outputs": []
    },
    {
      "cell_type": "code",
      "metadata": {
        "id": "Ezym6nr81r6h",
        "colab_type": "code",
        "colab": {}
      },
      "source": [
        "def lemmatization(texts, allowed_postags=['NOUN']):\n",
        "    texts_out = [ token.text for token in nlp(texts) if token.pos_ in \n",
        "                 allowed_postags and token.text not in black_list and len(token.text)>2]\n",
        "    return texts_out"
      ],
      "execution_count": 54,
      "outputs": []
    },
    {
      "cell_type": "code",
      "metadata": {
        "id": "jtT9CXv31ufL",
        "colab_type": "code",
        "colab": {}
      },
      "source": [
        "bigram = gensim.models.Phrases(docs)"
      ],
      "execution_count": 55,
      "outputs": []
    },
    {
      "cell_type": "code",
      "metadata": {
        "id": "lMV61cdh0BJb",
        "colab_type": "code",
        "colab": {
          "base_uri": "https://localhost:8080/",
          "height": 51
        },
        "outputId": "dfcadff1-fc4e-4b32-ec4e-3602d4a0a22a"
      },
      "source": [
        "import spacy.cli\n",
        "spacy.cli.download(\"es_core_news_md\")\n",
        "import spacy\n",
        "nlp = spacy.load('es_core_news_md')"
      ],
      "execution_count": 56,
      "outputs": [
        {
          "output_type": "stream",
          "text": [
            "\u001b[38;5;2m✔ Download and installation successful\u001b[0m\n",
            "You can now load the model via spacy.load('es_core_news_md')\n"
          ],
          "name": "stdout"
        }
      ]
    },
    {
      "cell_type": "code",
      "metadata": {
        "id": "Cp0_gXuxz-T7",
        "colab_type": "code",
        "colab": {}
      },
      "source": [
        "from nltk import word_tokenize\n",
        "from nltk.corpus import stopwords\n",
        "stop = set(stopwords.words('spanish'))\n",
        "\n",
        "additional_stopwords=set(black_list)\n",
        "\n",
        "stopwords = stop.union(additional_stopwords)\n"
      ],
      "execution_count": 57,
      "outputs": []
    },
    {
      "cell_type": "code",
      "metadata": {
        "id": "YLXNppES1maM",
        "colab_type": "code",
        "colab": {
          "base_uri": "https://localhost:8080/",
          "height": 71
        },
        "outputId": "e531f44a-55c5-465c-cbd5-e9b7ebfe6b80"
      },
      "source": [
        "docsCleaned=[]\n",
        "for doc in docs:\n",
        "    docsCleaned.append(cleaner(doc))"
      ],
      "execution_count": 58,
      "outputs": [
        {
          "output_type": "stream",
          "text": [
            "/usr/local/lib/python3.6/dist-packages/gensim/models/phrases.py:598: UserWarning: For a faster implementation, use the gensim.models.phrases.Phraser class\n",
            "  warnings.warn(\"For a faster implementation, use the gensim.models.phrases.Phraser class\")\n"
          ],
          "name": "stderr"
        }
      ]
    },
    {
      "cell_type": "code",
      "metadata": {
        "id": "ka__OMJS2Dey",
        "colab_type": "code",
        "colab": {}
      },
      "source": [
        "dictionary = Dictionary(docsCleaned)"
      ],
      "execution_count": 59,
      "outputs": []
    },
    {
      "cell_type": "code",
      "metadata": {
        "id": "iU2f4XZP0D-4",
        "colab_type": "code",
        "colab": {}
      },
      "source": [
        "dictionary.compactify()#Da nuevos ID. \n",
        "#Filtramos palabras que estén en minimo 2 documentos y máximo el 97% de documentos. \n",
        "dictionary.filter_extremes(no_below=2, no_above=0.97, keep_n=None)\n",
        "dictionary.compactify()\n",
        "#Creamos el Corpus\n",
        "corpus = [dictionary.doc2bow(text) for text in docsCleaned]"
      ],
      "execution_count": 60,
      "outputs": []
    },
    {
      "cell_type": "code",
      "metadata": {
        "id": "rPLOLtM52QXT",
        "colab_type": "code",
        "colab": {}
      },
      "source": [
        "#Función para mostrar los temas. \n",
        "def display_topics(model, model_type=\"lda\"):\n",
        "  for topic_idx, topic in enumerate(model.print_topics()):\n",
        "    print (\"Topic %d:\" % (topic_idx))\n",
        "    if model_type== \"hdp\":\n",
        "      print (\" \".join(re.findall( r'\\*(.[^\\*-S]+).?', topic[1])), \"\\n\")\n",
        "    else:\n",
        "      print (\" \".join(re.findall( r'\\\"(.[^\"]+).?', topic[1])), \"\\n\")"
      ],
      "execution_count": 61,
      "outputs": []
    },
    {
      "cell_type": "code",
      "metadata": {
        "id": "7h0ZjWDt1H18",
        "colab_type": "code",
        "colab": {}
      },
      "source": [
        "hdpmodel=HdpModel(corpus=corpus,id2word=dictionary,random_state=30)"
      ],
      "execution_count": 62,
      "outputs": []
    },
    {
      "cell_type": "code",
      "metadata": {
        "id": "WQbYz6DA2JPw",
        "colab_type": "code",
        "colab": {
          "base_uri": "https://localhost:8080/",
          "height": 1000
        },
        "outputId": "964348c2-414d-4be6-8f0f-2046dd8c2ccf"
      },
      "source": [
        "display_topics(hdpmodel,model_type=\"hdp\")"
      ],
      "execution_count": 63,
      "outputs": [
        {
          "output_type": "stream",
          "text": [
            "Topic 0:\n",
            "transporte  momento  cosas  producto  carga  productos  programa  forma  arroz  tiendas \n",
            "\n",
            "Topic 1:\n",
            "viviendas  vivienda  gente  cosas  plan  infraestructuras  nivel  casas  ciudad  vida \n",
            "\n",
            "Topic 2:\n",
            "millones  presupuesto  recursos  ingresos  sector  impacto  forma  tiempo  agua  nivel \n",
            "\n",
            "Topic 3:\n",
            "sector  comisionados  productor  copia  propuesta  compras  productores  octubre  banca  banco \n",
            "\n",
            "Topic 4:\n",
            "debate  mujer  mujeres  agua  municipios  lectura  nivel  pueblos  medicina  veces \n",
            "\n",
            "Topic 5:\n",
            "millones  modificaciones  honorables  gastos  ingresos  ingreso  gasto  vigencia  cuatrocientos  presupuesto \n",
            "\n",
            "Topic 6:\n",
            "medicamentos  desabastecimiento  salud  ministra  registro  productos  problema  calidad  nivel  seguridad \n",
            "\n",
            "Topic 7:\n",
            "carga  transporte  peso  dimensiones  vehiculo  vehiculos  permiso  enero  pesos  actividad \n",
            "\n",
            "Topic 8:\n",
            "sector  trazabilidad  debate  uso  productos  relaciones  ores  productor  productores  registro \n",
            "\n",
            "Topic 9:\n",
            "adultos  infancia  ejemplo  ministra  albergues  recursos  pregunta  nivel  equipo  organizaciones \n",
            "\n",
            "Topic 10:\n",
            "derechos  caso  humanos  persona  directora  casos  territorio  medida  momento  expediente \n",
            "\n",
            "Topic 11:\n",
            "empleo  desarrollo  tardes  sector  programas  nivel  instituciones  empresas  red  salud \n",
            "\n",
            "Topic 12:\n",
            "zona  gerente  recursos  actividad  octubre  comisionados  desarrollo  junta  trabajo  reglamento \n",
            "\n",
            "Topic 13:\n",
            "debate  sector  autoridades  corregimientos  comisionados  contratos  padres  embargo  productos  lectura \n",
            "\n",
            "Topic 14:\n",
            "libros  diputada  familia  escuelas  apoyo  lectura  uso  verdad  cultura  libro \n",
            "\n",
            "Topic 15:\n",
            "programa  animales  honorables  bienestar  representantes  funciones  articulo  seres  programas  representante \n",
            "\n",
            "Topic 16:\n",
            "acu  millones  moneda  valor  centavos  debate  proceso  costo  preguntas  secretaria \n",
            "\n",
            "Topic 17:\n",
            "acto  reglamento  reforma  reformas  constitucion  retiro  dialogo  proceso  pueblo  efecto \n",
            "\n",
            "Topic 18:\n",
            "desarrollo  derechos  humanos  dialogo  relaciones  fin  representante  esfuerzos  pilares  seguimiento \n",
            "\n",
            "Topic 19:\n",
            "octubre  bingos  sistema  ingresos  equipo  mes  enero  premios  diciembre  operaciones \n",
            "\n"
          ],
          "name": "stdout"
        }
      ]
    },
    {
      "cell_type": "code",
      "metadata": {
        "id": "KTbn1H4u2SaX",
        "colab_type": "code",
        "colab": {
          "base_uri": "https://localhost:8080/",
          "height": 547
        },
        "outputId": "5593b378-bc65-4139-dea9-5c029763c5f7"
      },
      "source": [
        "hdpmodel.print_topics(num_topics=15, num_words=10)"
      ],
      "execution_count": 64,
      "outputs": [
        {
          "output_type": "execute_result",
          "data": {
            "text/plain": [
              "[(0,\n",
              "  '0.010*transporte + 0.009*momento + 0.009*cosas + 0.008*producto + 0.007*carga + 0.007*productos + 0.007*programa + 0.006*forma + 0.006*arroz + 0.006*tiendas'),\n",
              " (1,\n",
              "  '0.010*viviendas + 0.009*vivienda + 0.009*gente + 0.007*cosas + 0.007*plan + 0.007*infraestructuras + 0.007*nivel + 0.007*casas + 0.007*ciudad + 0.006*vida'),\n",
              " (2,\n",
              "  '0.019*millones + 0.012*presupuesto + 0.010*recursos + 0.008*ingresos + 0.006*sector + 0.006*impacto + 0.006*forma + 0.006*tiempo + 0.005*agua + 0.005*nivel'),\n",
              " (3,\n",
              "  '0.013*sector + 0.012*comisionados + 0.011*productor + 0.008*copia + 0.008*propuesta + 0.007*compras + 0.006*productores + 0.006*octubre + 0.006*banca + 0.006*banco'),\n",
              " (4,\n",
              "  '0.011*debate + 0.009*mujer + 0.009*mujeres + 0.008*agua + 0.008*municipios + 0.008*lectura + 0.007*nivel + 0.007*pueblos + 0.006*medicina + 0.005*veces'),\n",
              " (5,\n",
              "  '0.088*millones + 0.047*modificaciones + 0.032*honorables + 0.020*gastos + 0.019*ingresos + 0.014*ingreso + 0.014*gasto + 0.008*vigencia + 0.008*cuatrocientos + 0.008*presupuesto'),\n",
              " (6,\n",
              "  '0.014*medicamentos + 0.013*desabastecimiento + 0.011*salud + 0.009*ministra + 0.009*registro + 0.008*productos + 0.008*problema + 0.008*calidad + 0.006*nivel + 0.006*seguridad'),\n",
              " (7,\n",
              "  '0.029*carga + 0.024*transporte + 0.013*peso + 0.012*dimensiones + 0.011*vehiculo + 0.010*vehiculos + 0.010*permiso + 0.009*enero + 0.007*pesos + 0.006*actividad'),\n",
              " (8,\n",
              "  '0.011*sector + 0.010*trazabilidad + 0.009*debate + 0.009*uso + 0.008*productos + 0.007*relaciones + 0.007*ores + 0.006*productor + 0.006*productores + 0.006*registro'),\n",
              " (9,\n",
              "  '0.019*adultos + 0.013*infancia + 0.011*ejemplo + 0.009*ministra + 0.008*albergues + 0.008*recursos + 0.007*pregunta + 0.007*nivel + 0.007*equipo + 0.006*organizaciones'),\n",
              " (10,\n",
              "  '0.011*derechos + 0.010*caso + 0.010*humanos + 0.009*persona + 0.008*directora + 0.007*casos + 0.007*territorio + 0.006*medida + 0.006*momento + 0.005*expediente'),\n",
              " (11,\n",
              "  '0.012*empleo + 0.010*desarrollo + 0.007*tardes + 0.006*sector + 0.006*programas + 0.006*nivel + 0.006*instituciones + 0.005*empresas + 0.005*red + 0.005*salud'),\n",
              " (12,\n",
              "  '0.020*zona + 0.009*gerente + 0.008*recursos + 0.008*actividad + 0.008*octubre + 0.008*comisionados + 0.007*desarrollo + 0.007*junta + 0.006*trabajo + 0.006*reglamento'),\n",
              " (13,\n",
              "  '0.011*debate + 0.009*sector + 0.008*autoridades + 0.008*corregimientos + 0.007*comisionados + 0.006*contratos + 0.006*padres + 0.005*embargo + 0.005*productos + 0.005*lectura'),\n",
              " (14,\n",
              "  '0.014*libros + 0.010*diputada + 0.007*familia + 0.007*escuelas + 0.007*apoyo + 0.006*lectura + 0.006*uso + 0.006*verdad + 0.006*cultura + 0.006*libro')]"
            ]
          },
          "metadata": {
            "tags": []
          },
          "execution_count": 64
        }
      ]
    },
    {
      "cell_type": "code",
      "metadata": {
        "id": "RWcCqdaG3zyq",
        "colab_type": "code",
        "colab": {}
      },
      "source": [
        "lsimodel = LsiModel(corpus=corpus, num_topics=15, id2word=dictionary)"
      ],
      "execution_count": 65,
      "outputs": []
    },
    {
      "cell_type": "code",
      "metadata": {
        "id": "eTIXdKCt6Mrc",
        "colab_type": "code",
        "colab": {
          "base_uri": "https://localhost:8080/",
          "height": 782
        },
        "outputId": "0463f1b8-57b4-4e0b-a695-e8b5131380b4"
      },
      "source": [
        "display_topics(lsimodel)"
      ],
      "execution_count": 66,
      "outputs": [
        {
          "output_type": "stream",
          "text": [
            "Topic 0:\n",
            "millones modificaciones honorables ingresos gastos ingreso gasto presupuesto vigencia propuesta \n",
            "\n",
            "Topic 1:\n",
            "millones cosas transporte nivel carga sector momento gente tiempo debate \n",
            "\n",
            "Topic 2:\n",
            "carga transporte dimensiones peso vehiculo permiso vehiculos enero pesos cargas \n",
            "\n",
            "Topic 3:\n",
            "productor sector viviendas vivienda infraestructuras plan productores casas gente ciudad \n",
            "\n",
            "Topic 4:\n",
            "medicamentos ministra desabastecimiento productor salud sector adultos viviendas comisionados gente \n",
            "\n",
            "Topic 5:\n",
            "productos medicamentos recursos desabastecimiento adultos salud registro zona producto problema \n",
            "\n",
            "Topic 6:\n",
            "acu modificaciones honorables millones presupuesto animales programa moneda valor zona \n",
            "\n",
            "Topic 7:\n",
            "programa adultos arroz tiendas medicamentos desabastecimiento zona infancia junta animales \n",
            "\n",
            "Topic 8:\n",
            "programa adultos derechos animales infancia albergues tiendas productos humanos ministra \n",
            "\n",
            "Topic 9:\n",
            "acu debate moneda zona octubre valor junta productos copia centavos \n",
            "\n",
            "Topic 10:\n",
            "acu animales cosas camiones programa leyes octubre comisionados moneda agua \n",
            "\n",
            "Topic 11:\n",
            "recursos zona agua mujeres impacto cosas camiones presupuesto actividad debate \n",
            "\n",
            "Topic 12:\n",
            "presupuesto acu ingresos modificaciones arroz tiendas escuelas zona libros impacto \n",
            "\n",
            "Topic 13:\n",
            "adultos infancia presupuesto humanos derechos ejemplo libros directora caso casos \n",
            "\n",
            "Topic 14:\n",
            "libros programa uso animales diputada camiones problema cultura zona mujer \n",
            "\n"
          ],
          "name": "stdout"
        }
      ]
    },
    {
      "cell_type": "code",
      "metadata": {
        "id": "Hq0E6Kfj6OCf",
        "colab_type": "code",
        "colab": {}
      },
      "source": [
        "ldamodel= LdaModel(corpus=corpus,num_topics=15,id2word=dictionary)"
      ],
      "execution_count": 67,
      "outputs": []
    },
    {
      "cell_type": "code",
      "metadata": {
        "id": "bQ4GB4P_6a2W",
        "colab_type": "code",
        "colab": {
          "base_uri": "https://localhost:8080/",
          "height": 782
        },
        "outputId": "2d8b416c-b217-44f3-d9d6-a41b8ee9c3ee"
      },
      "source": [
        "display_topics(ldamodel)"
      ],
      "execution_count": 68,
      "outputs": [
        {
          "output_type": "stream",
          "text": [
            "Topic 0:\n",
            "nivel lectura recursos tiempo comisionados sector desarrollo acuerdo instituciones gente \n",
            "\n",
            "Topic 1:\n",
            "sector momento tiempo cosas nivel millones recursos honorables comisionados veces \n",
            "\n",
            "Topic 2:\n",
            "debate sector millones cosas comisionados uso honorables gente momento caso \n",
            "\n",
            "Topic 3:\n",
            "millones honorables debate cosas ejemplo recursos tiempo programa sector desarrollo \n",
            "\n",
            "Topic 4:\n",
            "millones transporte carga sector forma gente acu cosas momento proceso \n",
            "\n",
            "Topic 5:\n",
            "millones honorables nivel transporte modificaciones carga momento lectura recursos equipo \n",
            "\n",
            "Topic 6:\n",
            "millones modificaciones honorables gastos ingresos lectura sector debate recursos cosas \n",
            "\n",
            "Topic 7:\n",
            "millones modificaciones honorables gastos ingresos ingreso gasto desarrollo lectura caso \n",
            "\n",
            "Topic 8:\n",
            "millones debate lectura tiempo sector momento nivel uso cosas proceso \n",
            "\n",
            "Topic 9:\n",
            "cosas debate nivel transporte forma tiempo sector lectura productos uso \n",
            "\n",
            "Topic 10:\n",
            "recursos desarrollo vida cosas momento instituciones nivel comisionados lectura sector \n",
            "\n",
            "Topic 11:\n",
            "nivel cosas salud lectura ministra sector momento tiempo programa problema \n",
            "\n",
            "Topic 12:\n",
            "programa debate nivel productos honorables millones trabajo forma lectura momento \n",
            "\n",
            "Topic 13:\n",
            "carga transporte nivel momento cosas lectura recursos tiempo sector propuesta \n",
            "\n",
            "Topic 14:\n",
            "millones modificaciones honorables ingresos recursos octubre programa lectura nivel momento \n",
            "\n"
          ],
          "name": "stdout"
        }
      ]
    }
  ]
}